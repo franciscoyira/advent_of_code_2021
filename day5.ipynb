{
 "cells": [
  {
   "cell_type": "markdown",
   "id": "d8e2b6cf",
   "metadata": {},
   "source": [
    "# Advent of Code: Day 5 🎄💻"
   ]
  },
  {
   "cell_type": "markdown",
   "id": "af900def",
   "metadata": {},
   "source": [
    "Description of the problem: https://adventofcode.com/2021/day/5"
   ]
  },
  {
   "cell_type": "code",
   "execution_count": 15,
   "id": "c4a6a352",
   "metadata": {
    "tags": []
   },
   "outputs": [],
   "source": [
    "import numpy as np\n",
    "import re"
   ]
  },
  {
   "cell_type": "markdown",
   "id": "62131e74",
   "metadata": {},
   "source": [
    "Importing the data and converting it to a data structure that allows me to solve the puzzle:"
   ]
  },
  {
   "cell_type": "code",
   "execution_count": 138,
   "id": "9ce67650",
   "metadata": {},
   "outputs": [
    {
     "name": "stdout",
     "output_type": "stream",
     "text": [
      "Line Count: 500\n",
      "990\n"
     ]
    }
   ],
   "source": [
    "fhand = open('day5_input/input.txt')\n",
    "\n",
    "coordinates=[]\n",
    "\n",
    "for line in fhand:\n",
    "    numbers=re.search('(\\d+)\\,(\\d+) \\-> (\\d+)\\,(\\d+)', line)\n",
    "    numbers_int=[]\n",
    "    for i in numbers.group(1,2,3,4):\n",
    "        coor_int=int(i)\n",
    "        numbers_int.extend([coor_int])\n",
    "    coordinates.extend([[tuple(numbers_int[:2]), tuple(numbers_int[2:])]])\n",
    "        \n",
    "print('Line Count:', len(coordinates))\n",
    "max_coordinate = max([coordinate for sublist in coordinates for item in sublist for coordinate in item])\n",
    "print(max_coordinate)\n",
    "fhand.close()"
   ]
  },
  {
   "cell_type": "markdown",
   "id": "de0f59ff",
   "metadata": {},
   "source": [
    "Creating NumPy Array that represents the coordinates"
   ]
  },
  {
   "cell_type": "code",
   "execution_count": 139,
   "id": "32c985c4",
   "metadata": {},
   "outputs": [
    {
     "data": {
      "text/plain": [
       "array([[0, 0, 0, ..., 0, 0, 0],\n",
       "       [0, 0, 0, ..., 0, 0, 0],\n",
       "       [0, 0, 0, ..., 0, 0, 0],\n",
       "       ...,\n",
       "       [0, 0, 0, ..., 0, 0, 0],\n",
       "       [0, 0, 0, ..., 0, 0, 0],\n",
       "       [0, 0, 0, ..., 0, 0, 0]])"
      ]
     },
     "execution_count": 139,
     "metadata": {},
     "output_type": "execute_result"
    }
   ],
   "source": [
    "bikini_bottom=np.zeros((max_coordinate+1,max_coordinate+1), dtype=int)\n",
    "bikini_bottom"
   ]
  },
  {
   "cell_type": "markdown",
   "id": "1a53253d",
   "metadata": {},
   "source": [
    "Code that solves the puzzle through iteration over `coordinates`, changing the appropriate values in `bikini_bottom` and then counting how many values >=2 there are."
   ]
  },
  {
   "cell_type": "code",
   "execution_count": 141,
   "id": "f7efc333",
   "metadata": {},
   "outputs": [],
   "source": [
    "for vent_line in coordinates:\n",
    "    is_column=vent_line[0][0] == vent_line[1][0]\n",
    "    is_row=vent_line[0][1] == vent_line[1][1]\n",
    "    \n",
    "    # Ignore diagonal lines\n",
    "    if not any([is_column, is_row]):\n",
    "        continue\n",
    "    \n",
    "    if vent_line[0][is_column] > vent_line[1][is_column]:\n",
    "        step = -1\n",
    "    elif vent_line[0][is_column] < vent_line[1][is_column]:\n",
    "        step = 1\n",
    "    \n",
    "    for n_item in np.arange(vent_line[0][is_column], vent_line[1][is_column]+step, step):\n",
    "        if is_column:\n",
    "            column_index=vent_line[0][0]\n",
    "            bikini_bottom[n_item, column_index] = bikini_bottom[n_item, column_index] + 1\n",
    "        if is_row:\n",
    "            row_index=vent_line[0][1]\n",
    "            bikini_bottom[row_index, n_item] = bikini_bottom[row_index, n_item] + 1"
   ]
  },
  {
   "cell_type": "code",
   "execution_count": 142,
   "id": "7da853ad",
   "metadata": {},
   "outputs": [
    {
     "data": {
      "text/plain": [
       "7473"
      ]
     },
     "execution_count": 142,
     "metadata": {},
     "output_type": "execute_result"
    }
   ],
   "source": [
    "(bikini_bottom >= 2).sum()"
   ]
  },
  {
   "cell_type": "markdown",
   "id": "bde20db2",
   "metadata": {},
   "source": [
    "## Part Two"
   ]
  },
  {
   "cell_type": "markdown",
   "id": "7b360373",
   "metadata": {},
   "source": [
    "Now considering also diagonal lines"
   ]
  },
  {
   "cell_type": "code",
   "execution_count": 137,
   "id": "0fc12b4b",
   "metadata": {},
   "outputs": [
    {
     "data": {
      "text/plain": [
       "24164"
      ]
     },
     "execution_count": 137,
     "metadata": {},
     "output_type": "execute_result"
    }
   ],
   "source": [
    "bikini_bottom=np.zeros((max_coordinate+1,max_coordinate+1), dtype=int)\n",
    "\n",
    "for vent_line in coordinates:\n",
    "    x_variates=vent_line[0][0] != vent_line[1][0]\n",
    "    y_variates=vent_line[0][1] != vent_line[1][1]\n",
    "    \n",
    "    if x_variates:\n",
    "        if vent_line[0][0] > vent_line[1][0]:\n",
    "            step_x = -1\n",
    "        elif vent_line[0][0] < vent_line[1][0]:\n",
    "            step_x = 1\n",
    "    \n",
    "    if y_variates:\n",
    "        if vent_line[0][1] > vent_line[1][1]:\n",
    "            step_y = -1\n",
    "        elif vent_line[0][1] < vent_line[1][1]:\n",
    "            step_y = 1\n",
    "            \n",
    "    #  Get length (how many spaces will we move across a relevant axis)\n",
    "    step_to_move=step_y if y_variates else step_x\n",
    "    n_to_move=abs(vent_line[0][y_variates] - (vent_line[1][y_variates]+step_to_move))  \n",
    "    \n",
    "    # Create arrays with indexes (positions) over which to iterate\n",
    "    if x_variates:\n",
    "        positions_columns=np.arange(vent_line[0][0], vent_line[1][0]+step_x, step_x)\n",
    "    if y_variates:\n",
    "        positions_rows=np.arange(vent_line[0][1], vent_line[1][1]+step_y, step_y)\n",
    "\n",
    "    for n_iter in np.arange(n_to_move):\n",
    "        # Default values if there is no variation\n",
    "        column_index=vent_line[0][0]\n",
    "        row_index=vent_line[0][1]\n",
    "        \n",
    "        if x_variates:\n",
    "            column_index=positions_columns[n_iter]\n",
    "        if y_variates:\n",
    "            row_index=positions_rows[n_iter]\n",
    "            \n",
    "        bikini_bottom[row_index, column_index] = bikini_bottom[row_index, column_index] + 1   \n",
    "            \n",
    "(bikini_bottom >= 2).sum()"
   ]
  }
 ],
 "metadata": {
  "kernelspec": {
   "display_name": "adventcode2021:Python",
   "language": "python",
   "name": "conda-env-adventcode2021-py"
  },
  "language_info": {
   "codemirror_mode": {
    "name": "ipython",
    "version": 3
   },
   "file_extension": ".py",
   "mimetype": "text/x-python",
   "name": "python",
   "nbconvert_exporter": "python",
   "pygments_lexer": "ipython3",
   "version": "3.9.9"
  }
 },
 "nbformat": 4,
 "nbformat_minor": 5
}
